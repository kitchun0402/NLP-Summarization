{
 "cells": [
  {
   "cell_type": "code",
   "execution_count": 19,
   "metadata": {},
   "outputs": [],
   "source": [
    "from bs4 import BeautifulSoup\n",
    "import certifi\n",
    "import urllib3\n",
    "import requests\n",
    "import nltk"
   ]
  },
  {
   "cell_type": "code",
   "execution_count": 3,
   "metadata": {},
   "outputs": [],
   "source": [
    "httppage = urllib3.PoolManager(cert_reqs='CERT_REQUIRED', ca_certs=certifi.where())\n",
    "response = httppage.request('GET', 'https://en.wikipedia.org/wiki/Data_science')\n",
    "# response = requests.post('https://en.wikipedia.org/wiki/Software_engineer')\n",
    "soup = BeautifulSoup(response.data, 'html.parser')"
   ]
  },
  {
   "cell_type": "code",
   "execution_count": 4,
   "metadata": {},
   "outputs": [],
   "source": [
    "text = ' '.join(map(lambda x: x.text, soup.find_all(name = 'p'))) #only look for 'p' tag"
   ]
  },
  {
   "cell_type": "code",
   "execution_count": 5,
   "metadata": {},
   "outputs": [
    {
     "data": {
      "text/plain": [
       "'\\n Data science is a multi-disciplinary field that uses scientific methods, processes, algorithms and systems to extract knowledge and insights from structured and unstructured data.[1][2] Data science is the same concept as data mining and big data: \"use the most powerful hardware, the most powerful programming systems, and the most efficient algorithms to solve problems\".[3]\\n Data science is a \"concept to unify statistics, data analysis, machine learning and their related methods\" in order to \"understand and analyze actual phenomena\" with data.[4] It employs techniques and theories drawn from many fields within the context of mathematics, statistics, computer science, and information science. Turing award winner Jim Gray imagined data science as a \"fourth paradigm\" of science (empirical, theoretical, computational and now data-driven) and asserted that \"everything about science is changing because of the impact of information technology\" and the data deluge.[5][6] In 2015, the American Statistical Association identified database management, statistics and machine learning, and distributed and parallel systems as the three emerging foundational professional communities.[7]\\n In 2012, when Harvard Business Review called it \"The Sexiest Job of the 21st Century\",[8] the term \"data science\" became a buzzword.  It is now often used interchangeably with earlier concepts like business analytics,[9] business intelligence, predictive modeling, and statistics[10].  Even the suggestion that data science is sexy was paraphrasing Hans Rosling, featured in a 2011 BBC documentary with the quote, \"Statistics is now the sexiest subject around.\"[11] Nate Silver referred to data science as a sexed up term for statistics.[12] In many cases, earlier approaches and solutions are now simply rebranded as \"data science\" to be more attractive, which can cause the term to become \"dilute[d] beyond usefulness.\"[13] While many university programs now offer a data science degree, there exists no consensus on a definition or suitable curriculum contents.[9] To its discredit, however, many data-science and big-data projects fail to deliver useful results, often as a result of poor management and utilization of resources.[14][15][16][17]\\n The term \"data science\" has appeared in various contexts over the past thirty years but did not become an established term until recently. In an early usage, it was used as a substitute for computer science by Peter Naur in 1960. Naur later introduced the term \"datalogy\".[18] In 1974, Naur published Concise Survey of Computer Methods, which freely used the term data science in its survey of the contemporary data processing methods that are used in a wide range of applications.\\n The modern definition of \"data science\" was first sketched during the second Japanese-French statistics symposium organized at the University of Montpellier II (France) in 1992[19]. The attendees acknowledged the emergence of a new discipline with a specific focus on data from various origins, dimensions, types and structures. They shaped the contour of this new science based on established concepts and principles of statistics and data analysis with the extensive use of the increasing power of computer tools.\\n In 1996, members of the International Federation of Classification Societies (IFCS) met in Kobe for their biennial conference. Here, for the first time, the term data science is included in the title of the conference (\"Data Science, classification, and related methods\"),[20] after the term was introduced in a roundtable discussion by Chikio Hayashi.[4]\\n In November 1997, C.F. Jeff Wu gave the inaugural lecture entitled \"Statistics = Data Science?\"[21] for his appointment to the H. C. Carver Professorship at the University of Michigan.[22]\\nIn this lecture, he characterized statistical work as a trilogy of data collection, data modeling and analysis, and decision making. In his conclusion,\\nhe initiated the modern, non-computer science, usage of the term \"data science\" and advocated that statistics be renamed data science and statisticians data scientists.[21]\\nLater, he presented his lecture entitled \"Statistics = Data Science?\" as the first of his 1998 P.C. Mahalanobis Memorial Lectures.[23] These lectures honor Prasanta Chandra Mahalanobis, an Indian scientist and statistician and founder of the Indian Statistical Institute.\\n In 2001, William S. Cleveland introduced data science as an independent discipline, extending the field of statistics to incorporate \"advances in computing with data\" in his article \"Data Science: An Action Plan for Expanding the Technical Areas of the Field of Statistics,\" which was published in Volume 69, No. 1, of the April 2001 edition of the International Statistical Review / Revue Internationale de Statistique.[24] In his report, Cleveland establishes six technical areas which he believed to encompass the field of data science: multidisciplinary investigations, models and methods for data, computing with data, pedagogy, tool evaluation, and theory.\\n In April 2002, the International Council for Science (ICSU): Committee on Data for Science and Technology (CODATA)[25] started the Data Science Journal,[26] a publication focused on issues such as the description of data systems, their publication on the internet, applications and legal issues.[27] Shortly thereafter, in January 2003, Columbia University began publishing The Journal of Data Science,[28] which provided a platform for all data workers to present their views and exchange ideas. The journal was largely devoted to the application of statistical methods and quantitative research. In 2005, The National Science Board published \"Long-lived Digital Data Collections: Enabling Research and Education in the 21st Century\" defining data scientists as \"the information and computer scientists, database and software and programmers, disciplinary experts, curators and expert annotators, librarians, archivists, and others, who are crucial to the successful management of a digital data collection\" whose primary activity is to \"conduct creative inquiry and analysis.\"[29]\\n Around 2007,[citation needed] Turing award winner Jim Gray envisioned \"data-driven science\" as a \"fourth paradigm\" of science that uses the computational analysis of large data as primary scientific method[5][6] and \"to have a world in which all of the science literature is online, all of the science data is online, and they interoperate with each other.\"[30]\\n In the 2012 Harvard Business Review article \"Data Scientist: The Sexiest Job of the 21st Century\",[8] DJ Patil claims to have coined this term in 2008 with Jeff Hammerbacher to define their jobs at LinkedIn and Facebook, respectively. He asserts that a data scientist is \"a new breed\", and that a \"shortage of data scientists is becoming a serious constraint in some sectors\", but describes a much more business-oriented role.\\n In 2013, the IEEE Task Force on Data Science and Advanced Analytics[31] was launched. In 2013, the first \"European Conference on Data Analysis (ECDA)\" was organised in Luxembourg, establishing the European Association for Data Science (EuADS). The first international conference: IEEE International Conference on Data Science and Advanced Analytics was launched in 2014.[32] In 2014, General Assembly launched student-paid bootcamp and The Data Incubator launched a competitive free data science fellowship.[33]  In 2014, the American Statistical Association section on Statistical Learning and Data Mining renamed its journal to \"Statistical Analysis and Data Mining: The ASA Data Science Journal\" and in 2016 changed its section name to \"Statistical Learning and Data Science\".[34]  In 2015, the International Journal on Data Science and Analytics[35] was launched by Springer to publish original work on data science and big data analytics.  In September 2015 the Gesellschaft für Klassifikation (GfKl) added to the name of the Society \"Data Science Society\" at the third ECDA conference at the University of Essex, Colchester, UK.\\n \"Data science\" has recently become a popular term among business executives.[36] However, many critical academics and journalists see no distinction between data science and statistics, whereas others consider it largely a popular term for \"data mining\" and \"big data\".[3] Writing in Forbes, Gil Press argues that data science is a buzzword without a clear definition and has simply replaced \"business analytics\" in contexts such as graduate degree programs.[9] In the question-and-answer section of his keynote address at the Joint Statistical Meetings of American Statistical Association, noted applied statistician Nate Silver said, \"I think data-scientist is a sexed up term for a statistician....Statistics is a branch of science. Data scientist is slightly redundant in some way and people shouldn’t berate the term statistician.\"[12] Similarly, in business sector, multiple researchers and analysts state that data scientists alone are far from being sufficient in granting companies a real competitive advantage[37] and consider data scientists as only one of the four greater job families companies require to leverage big data effectively, namely: data analysts, data scientists, big data developers and big data engineers.[38]\\n On the other hand, responses to criticism are as numerous. In a 2014 Wall Street Journal article, Irving Wladawsky-Berger compares the data science enthusiasm with the dawn of computer science. He argues data science, like any other interdisciplinary field, employs methodologies and practices from across the academia and industry, but then it will morph them into a new discipline. He brings to attention the sharp criticisms of computer science, now a well respected academic discipline, had to once face.[39] Likewise, NYU Stern\\'s Vasant Dhar, as do many other academic proponents of data science,[39] argues more specifically in December 2013 that data science is different from the existing practice of data analysis across all disciplines, which focuses only on explaining data sets. Data science seeks actionable and consistent pattern for predictive uses.[1]  This practical engineering goal takes data science beyond traditional analytics. Now the data in those disciplines and applied fields that lacked solid theories, like health science and social science, could be sought and utilized to generate powerful predictive models.[1]\\n In an effort similar to Dhar\\'s, Stanford professor David Donoho, in September 2015, takes the proposition further by rejecting three simplistic and misleading definitions of data science in lieu of criticisms.[40] First, for Donoho, data science does not equate to big data, in that the size of the data set is not a criterion to distinguish data science and statistics.[40] Second, data science is not defined by the computing skills of sorting big data sets, in that these skills are already generally used for analyses across all disciplines.[40] Third, data science is a heavily applied field where academic programs right now do not sufficiently prepare data scientists for the jobs, in that many graduate programs misleadingly advertise their analytics and statistics training as the essence of a data science program.[40][41] As a statistician, Donoho, following many in his field, champions the broadening of learning scope in the form of data science,[40] like John Chambers who urges statisticians to adopt an inclusive concept of learning from data,[42] or like William Cleveland who urges to prioritize extracting from data applicable predictive tools over explanatory theories.[24] Together, these statisticians envision an increasingly inclusive applied field that grows out of traditional statistics and beyond.\\n For the future of data science, Donoho projects an ever-growing environment for open science where data sets used for academic publications are accessible to all researchers.[40] US National Institute of Health has already announced plans to enhance reproducibility and transparency of research data.[43] Other big journals are likewise following suit.[44][45] This way, the future of data science not only exceeds the boundary of statistical theories in scale and methodology, but data science will revolutionize current academia and research paradigms.[40] As Donoho concludes, \"the scope and impact of data science will continue to expand enormously in coming decades as scientific data and data about science itself become ubiquitously available.\"[40]\\n'"
      ]
     },
     "execution_count": 5,
     "metadata": {},
     "output_type": "execute_result"
    }
   ],
   "source": [
    "text"
   ]
  },
  {
   "cell_type": "code",
   "execution_count": 6,
   "metadata": {},
   "outputs": [
    {
     "name": "stdout",
     "output_type": "stream",
     "text": [
      "['\\n Data science is a multi-disciplinary field that uses scientific methods, processes, algorithms and systems to extract knowledge and insights from structured and unstructured data.', '[1][2] Data science is the same concept as data mining and big data: \"use the most powerful hardware, the most powerful programming systems, and the most efficient algorithms to solve problems\".', '[3]\\n Data science is a \"concept to unify statistics, data analysis, machine learning and their related methods\" in order to \"understand and analyze actual phenomena\" with data.', '[4] It employs techniques and theories drawn from many fields within the context of mathematics, statistics, computer science, and information science.', 'Turing award winner Jim Gray imagined data science as a \"fourth paradigm\" of science (empirical, theoretical, computational and now data-driven) and asserted that \"everything about science is changing because of the impact of information technology\" and the data deluge.', '[5][6] In 2015, the American Statistical Association identified database management, statistics and machine learning, and distributed and parallel systems as the three emerging foundational professional communities.', '[7]\\n In 2012, when Harvard Business Review called it \"The Sexiest Job of the 21st Century\",[8] the term \"data science\" became a buzzword.', 'It is now often used interchangeably with earlier concepts like business analytics,[9] business intelligence, predictive modeling, and statistics[10].', 'Even the suggestion that data science is sexy was paraphrasing Hans Rosling, featured in a 2011 BBC documentary with the quote, \"Statistics is now the sexiest subject around.', '\"[11] Nate Silver referred to data science as a sexed up term for statistics.', '[12] In many cases, earlier approaches and solutions are now simply rebranded as \"data science\" to be more attractive, which can cause the term to become \"dilute[d] beyond usefulness.', '\"[13] While many university programs now offer a data science degree, there exists no consensus on a definition or suitable curriculum contents.', '[9] To its discredit, however, many data-science and big-data projects fail to deliver useful results, often as a result of poor management and utilization of resources.', '[14][15][16][17]\\n The term \"data science\" has appeared in various contexts over the past thirty years but did not become an established term until recently.', 'In an early usage, it was used as a substitute for computer science by Peter Naur in 1960.', 'Naur later introduced the term \"datalogy\".', '[18] In 1974, Naur published Concise Survey of Computer Methods, which freely used the term data science in its survey of the contemporary data processing methods that are used in a wide range of applications.', 'The modern definition of \"data science\" was first sketched during the second Japanese-French statistics symposium organized at the University of Montpellier II (France) in 1992[19].', 'The attendees acknowledged the emergence of a new discipline with a specific focus on data from various origins, dimensions, types and structures.', 'They shaped the contour of this new science based on established concepts and principles of statistics and data analysis with the extensive use of the increasing power of computer tools.', 'In 1996, members of the International Federation of Classification Societies (IFCS) met in Kobe for their biennial conference.', 'Here, for the first time, the term data science is included in the title of the conference (\"Data Science, classification, and related methods\"),[20] after the term was introduced in a roundtable discussion by Chikio Hayashi.', '[4]\\n In November 1997, C.F.', 'Jeff Wu gave the inaugural lecture entitled \"Statistics = Data Science?', '\"[21] for his appointment to the H. C. Carver Professorship at the University of Michigan.', '[22]\\nIn this lecture, he characterized statistical work as a trilogy of data collection, data modeling and analysis, and decision making.', 'In his conclusion,\\nhe initiated the modern, non-computer science, usage of the term \"data science\" and advocated that statistics be renamed data science and statisticians data scientists.', '[21]\\nLater, he presented his lecture entitled \"Statistics = Data Science?\"', 'as the first of his 1998 P.C.', 'Mahalanobis Memorial Lectures.', '[23] These lectures honor Prasanta Chandra Mahalanobis, an Indian scientist and statistician and founder of the Indian Statistical Institute.', 'In 2001, William S. Cleveland introduced data science as an independent discipline, extending the field of statistics to incorporate \"advances in computing with data\" in his article \"Data Science: An Action Plan for Expanding the Technical Areas of the Field of Statistics,\" which was published in Volume 69, No.', '1, of the April 2001 edition of the International Statistical Review / Revue Internationale de Statistique.', '[24] In his report, Cleveland establishes six technical areas which he believed to encompass the field of data science: multidisciplinary investigations, models and methods for data, computing with data, pedagogy, tool evaluation, and theory.', 'In April 2002, the International Council for Science (ICSU): Committee on Data for Science and Technology (CODATA)[25] started the Data Science Journal,[26] a publication focused on issues such as the description of data systems, their publication on the internet, applications and legal issues.', '[27] Shortly thereafter, in January 2003, Columbia University began publishing The Journal of Data Science,[28] which provided a platform for all data workers to present their views and exchange ideas.', 'The journal was largely devoted to the application of statistical methods and quantitative research.', 'In 2005, The National Science Board published \"Long-lived Digital Data Collections: Enabling Research and Education in the 21st Century\" defining data scientists as \"the information and computer scientists, database and software and programmers, disciplinary experts, curators and expert annotators, librarians, archivists, and others, who are crucial to the successful management of a digital data collection\" whose primary activity is to \"conduct creative inquiry and analysis.', '\"[29]\\n Around 2007,[citation needed] Turing award winner Jim Gray envisioned \"data-driven science\" as a \"fourth paradigm\" of science that uses the computational analysis of large data as primary scientific method[5][6] and \"to have a world in which all of the science literature is online, all of the science data is online, and they interoperate with each other.', '\"[30]\\n In the 2012 Harvard Business Review article \"Data Scientist: The Sexiest Job of the 21st Century\",[8] DJ Patil claims to have coined this term in 2008 with Jeff Hammerbacher to define their jobs at LinkedIn and Facebook, respectively.', 'He asserts that a data scientist is \"a new breed\", and that a \"shortage of data scientists is becoming a serious constraint in some sectors\", but describes a much more business-oriented role.', 'In 2013, the IEEE Task Force on Data Science and Advanced Analytics[31] was launched.', 'In 2013, the first \"European Conference on Data Analysis (ECDA)\" was organised in Luxembourg, establishing the European Association for Data Science (EuADS).', 'The first international conference: IEEE International Conference on Data Science and Advanced Analytics was launched in 2014.', '[32] In 2014, General Assembly launched student-paid bootcamp and The Data Incubator launched a competitive free data science fellowship.', '[33]  In 2014, the American Statistical Association section on Statistical Learning and Data Mining renamed its journal to \"Statistical Analysis and Data Mining: The ASA Data Science Journal\" and in 2016 changed its section name to \"Statistical Learning and Data Science\".', '[34]  In 2015, the International Journal on Data Science and Analytics[35] was launched by Springer to publish original work on data science and big data analytics.', 'In September 2015 the Gesellschaft für Klassifikation (GfKl) added to the name of the Society \"Data Science Society\" at the third ECDA conference at the University of Essex, Colchester, UK.', '\"Data science\" has recently become a popular term among business executives.', '[36] However, many critical academics and journalists see no distinction between data science and statistics, whereas others consider it largely a popular term for \"data mining\" and \"big data\".', '[3] Writing in Forbes, Gil Press argues that data science is a buzzword without a clear definition and has simply replaced \"business analytics\" in contexts such as graduate degree programs.', '[9] In the question-and-answer section of his keynote address at the Joint Statistical Meetings of American Statistical Association, noted applied statistician Nate Silver said, \"I think data-scientist is a sexed up term for a statistician....Statistics is a branch of science.', 'Data scientist is slightly redundant in some way and people shouldn’t berate the term statistician.', '\"[12] Similarly, in business sector, multiple researchers and analysts state that data scientists alone are far from being sufficient in granting companies a real competitive advantage[37] and consider data scientists as only one of the four greater job families companies require to leverage big data effectively, namely: data analysts, data scientists, big data developers and big data engineers.', '[38]\\n On the other hand, responses to criticism are as numerous.', 'In a 2014 Wall Street Journal article, Irving Wladawsky-Berger compares the data science enthusiasm with the dawn of computer science.', 'He argues data science, like any other interdisciplinary field, employs methodologies and practices from across the academia and industry, but then it will morph them into a new discipline.', 'He brings to attention the sharp criticisms of computer science, now a well respected academic discipline, had to once face.', \"[39] Likewise, NYU Stern's Vasant Dhar, as do many other academic proponents of data science,[39] argues more specifically in December 2013 that data science is different from the existing practice of data analysis across all disciplines, which focuses only on explaining data sets.\", 'Data science seeks actionable and consistent pattern for predictive uses.', '[1]  This practical engineering goal takes data science beyond traditional analytics.', 'Now the data in those disciplines and applied fields that lacked solid theories, like health science and social science, could be sought and utilized to generate powerful predictive models.', \"[1]\\n In an effort similar to Dhar's, Stanford professor David Donoho, in September 2015, takes the proposition further by rejecting three simplistic and misleading definitions of data science in lieu of criticisms.\", '[40] First, for Donoho, data science does not equate to big data, in that the size of the data set is not a criterion to distinguish data science and statistics.', '[40] Second, data science is not defined by the computing skills of sorting big data sets, in that these skills are already generally used for analyses across all disciplines.', '[40] Third, data science is a heavily applied field where academic programs right now do not sufficiently prepare data scientists for the jobs, in that many graduate programs misleadingly advertise their analytics and statistics training as the essence of a data science program.', '[40][41] As a statistician, Donoho, following many in his field, champions the broadening of learning scope in the form of data science,[40] like John Chambers who urges statisticians to adopt an inclusive concept of learning from data,[42] or like William Cleveland who urges to prioritize extracting from data applicable predictive tools over explanatory theories.', '[24] Together, these statisticians envision an increasingly inclusive applied field that grows out of traditional statistics and beyond.', 'For the future of data science, Donoho projects an ever-growing environment for open science where data sets used for academic publications are accessible to all researchers.', '[40] US National Institute of Health has already announced plans to enhance reproducibility and transparency of research data.', '[43] Other big journals are likewise following suit.', '[44][45] This way, the future of data science not only exceeds the boundary of statistical theories in scale and methodology, but data science will revolutionize current academia and research paradigms.', '[40] As Donoho concludes, \"the scope and impact of data science will continue to expand enormously in coming decades as scientific data and data about science itself become ubiquitously available.', '\"[40]']\n"
     ]
    }
   ],
   "source": [
    "from nltk.tokenize import word_tokenize, sent_tokenize\n",
    "sents = sent_tokenize(text)\n",
    "print(sents)"
   ]
  },
  {
   "cell_type": "markdown",
   "metadata": {},
   "source": [
    "# Stopwords"
   ]
  },
  {
   "cell_type": "code",
   "execution_count": 7,
   "metadata": {},
   "outputs": [
    {
     "name": "stdout",
     "output_type": "stream",
     "text": [
      "['i', 'me', 'my', 'myself', 'we', 'our', 'ours', 'ourselves', 'you', \"you're\", \"you've\", \"you'll\", \"you'd\", 'your', 'yours', 'yourself', 'yourselves', 'he', 'him', 'his', 'himself', 'she', \"she's\", 'her', 'hers', 'herself', 'it', \"it's\", 'its', 'itself', 'they', 'them', 'their', 'theirs', 'themselves', 'what', 'which', 'who', 'whom', 'this', 'that', \"that'll\", 'these', 'those', 'am', 'is', 'are', 'was', 'were', 'be', 'been', 'being', 'have', 'has', 'had', 'having', 'do', 'does', 'did', 'doing', 'a', 'an', 'the', 'and', 'but', 'if', 'or', 'because', 'as', 'until', 'while', 'of', 'at', 'by', 'for', 'with', 'about', 'against', 'between', 'into', 'through', 'during', 'before', 'after', 'above', 'below', 'to', 'from', 'up', 'down', 'in', 'out', 'on', 'off', 'over', 'under', 'again', 'further', 'then', 'once', 'here', 'there', 'when', 'where', 'why', 'how', 'all', 'any', 'both', 'each', 'few', 'more', 'most', 'other', 'some', 'such', 'no', 'nor', 'not', 'only', 'own', 'same', 'so', 'than', 'too', 'very', 's', 't', 'can', 'will', 'just', 'don', \"don't\", 'should', \"should've\", 'now', 'd', 'll', 'm', 'o', 're', 've', 'y', 'ain', 'aren', \"aren't\", 'couldn', \"couldn't\", 'didn', \"didn't\", 'doesn', \"doesn't\", 'hadn', \"hadn't\", 'hasn', \"hasn't\", 'haven', \"haven't\", 'isn', \"isn't\", 'ma', 'mightn', \"mightn't\", 'mustn', \"mustn't\", 'needn', \"needn't\", 'shan', \"shan't\", 'shouldn', \"shouldn't\", 'wasn', \"wasn't\", 'weren', \"weren't\", 'won', \"won't\", 'wouldn', \"wouldn't\", '!', '\"', '#', '$', '%', '&', \"'\", '(', ')', '*', '+', ',', '-', '.', '/', ':', ';', '<', '=', '>', '?', '@', '[', '\\\\', ']', '^', '_', '`', '{', '|', '}', '~', \"'s\"]\n"
     ]
    }
   ],
   "source": [
    "from string import punctuation\n",
    "from nltk.corpus import stopwords\n",
    "stopword_ = stopwords.words('english') + list(punctuation) + [\"'s\"]\n",
    "print(stopword_)"
   ]
  },
  {
   "cell_type": "markdown",
   "metadata": {},
   "source": [
    "# Part of Speech"
   ]
  },
  {
   "cell_type": "code",
   "execution_count": 54,
   "metadata": {},
   "outputs": [],
   "source": [
    "from nltk.corpus import wordnet\n",
    "def get_part_of_speech(word):\n",
    "    pos = nltk.pos_tag([word])\n",
    "    if pos[0][1].startswith('J'):\n",
    "        return wordnet.ADJ\n",
    "    elif pos[0][1].startswith('R'):\n",
    "        return wordnet.ADV\n",
    "    elif pos[0][1].startswith('V'):\n",
    "        return wordnet.VERB\n",
    "    else:\n",
    "        return wordnet.NOUN"
   ]
  },
  {
   "cell_type": "markdown",
   "metadata": {},
   "source": [
    "# Lemmatization"
   ]
  },
  {
   "cell_type": "code",
   "execution_count": 55,
   "metadata": {},
   "outputs": [
    {
     "name": "stdout",
     "output_type": "stream",
     "text": [
      "['data', 'science', 'multi-disciplinary', 'field', 'us', 'scientific', 'method', 'process', 'algorithm', 'system', 'extract', 'knowledge', 'insight', 'structure', 'unstructured', 'data', '1', '2', 'data', 'science', 'concept', 'data', 'mining', 'big', 'data', '``', 'use', 'powerful', 'hardware', 'powerful', 'program', 'system', 'efficient', 'algorithm', 'solve', 'problem', \"''\", '3', 'data', 'science', '``', 'concept', 'unify', 'statistic', 'data', 'analysis', 'machine', 'learn', 'related', 'method', \"''\", 'order', '``', 'understand', 'analyze', 'actual', 'phenomenon', \"''\", 'data', '4', 'employ', 'technique', 'theory', 'drawn', 'many', 'field', 'within', 'context', 'mathematics', 'statistic', 'computer', 'science', 'information', 'science', 'turing', 'award', 'winner', 'jim', 'gray', 'imagine', 'data', 'science', '``', 'fourth', 'paradigm', \"''\", 'science', 'empirical', 'theoretical', 'computational', 'data-driven', 'assert', '``', 'everything', 'science', 'change', 'impact', 'information', 'technology', \"''\", 'data', 'deluge', '5', '6', '2015', 'american', 'statistical', 'association', 'identify', 'database', 'management', 'statistic', 'machine', 'learn', 'distribute', 'parallel', 'system', 'three', 'emerge', 'foundational', 'professional', 'community', '7', '2012', 'harvard', 'business', 'review', 'call', '``', 'sexiest', 'job', '21st', 'century', \"''\", '8', 'term', '``', 'data', 'science', \"''\", 'become', 'buzzword', 'often', 'use', 'interchangeably', 'earlier', 'concept', 'like', 'business', 'analytics', '9', 'business', 'intelligence', 'predictive', 'model', 'statistic', '10', 'even', 'suggestion', 'data', 'science', 'sexy', 'paraphrase', 'han', 'rosling', 'feature', '2011', 'bbc', 'documentary', 'quote', '``', 'statistic', 'sexiest', 'subject', 'around', '``', '11', 'nate', 'silver', 'refer', 'data', 'science', 'sexed', 'term', 'statistic', '12', 'many', 'case', 'earlier', 'approach', 'solution', 'simply', 'rebranded', '``', 'data', 'science', \"''\", 'attractive', 'cause', 'term', 'become', '``', 'dilute', 'beyond', 'usefulness', '``', '13', 'many', 'university', 'program', 'offer', 'data', 'science', 'degree', 'exists', 'consensus', 'definition', 'suitable', 'curriculum', 'content', '9', 'discredit', 'however', 'many', 'data-science', 'big-data', 'project', 'fail', 'deliver', 'useful', 'result', 'often', 'result', 'poor', 'management', 'utilization', 'resource', '14', '15', '16', '17', 'term', '``', 'data', 'science', \"''\", 'appear', 'various', 'context', 'past', 'thirty', 'year', 'become', 'establish', 'term', 'recently', 'early', 'usage', 'use', 'substitute', 'computer', 'science', 'peter', 'naur', '1960', 'naur', 'later', 'introduce', 'term', '``', 'datalogy', \"''\", '18', '1974', 'naur', 'publish', 'concise', 'survey', 'computer', 'method', 'freely', 'use', 'term', 'data', 'science', 'survey', 'contemporary', 'data', 'processing', 'method', 'use', 'wide', 'range', 'application', 'modern', 'definition', '``', 'data', 'science', \"''\", 'first', 'sketch', 'second', 'japanese-french', 'statistic', 'symposium', 'organize', 'university', 'montpellier', 'ii', 'france', '1992', '19', 'attendee', 'acknowledge', 'emergence', 'new', 'discipline', 'specific', 'focus', 'data', 'various', 'origin', 'dimension', 'type', 'structure', 'shape', 'contour', 'new', 'science', 'base', 'establish', 'concept', 'principle', 'statistic', 'data', 'analysis', 'extensive', 'use', 'increase', 'power', 'computer', 'tool', '1996', 'member', 'international', 'federation', 'classification', 'society', 'ifc', 'met', 'kobe', 'biennial', 'conference', 'first', 'time', 'term', 'data', 'science', 'include', 'title', 'conference', '``', 'data', 'science', 'classification', 'related', 'method', \"''\", '20', 'term', 'introduce', 'roundtable', 'discussion', 'chikio', 'hayashi', '4', 'november', '1997', 'c.f', 'jeff', 'wu', 'give', 'inaugural', 'lecture', 'entitle', '``', 'statistic', 'data', 'science', '``', '21', 'appointment', 'h.', 'c.', 'carver', 'professorship', 'university', 'michigan', '22', 'lecture', 'characterize', 'statistical', 'work', 'trilogy', 'data', 'collection', 'data', 'model', 'analysis', 'decision', 'make', 'conclusion', 'initiate', 'modern', 'non-computer', 'science', 'usage', 'term', '``', 'data', 'science', \"''\", 'advocate', 'statistic', 'rename', 'data', 'science', 'statistician', 'data', 'scientist', '21', 'later', 'present', 'lecture', 'entitle', '``', 'statistic', 'data', 'science', \"''\", 'first', '1998', 'p.c', 'mahalanobis', 'memorial', 'lecture', '23', 'lecture', 'honor', 'prasanta', 'chandra', 'mahalanobis', 'indian', 'scientist', 'statistician', 'founder', 'indian', 'statistical', 'institute', '2001', 'william', 's.', 'cleveland', 'introduce', 'data', 'science', 'independent', 'discipline', 'extend', 'field', 'statistic', 'incorporate', '``', 'advance', 'compute', 'data', \"''\", 'article', '``', 'data', 'science', 'action', 'plan', 'expand', 'technical', 'area', 'field', 'statistic', \"''\", 'publish', 'volume', '69', '1', 'april', '2001', 'edition', 'international', 'statistical', 'review', 'revue', 'internationale', 'de', 'statistique', '24', 'report', 'cleveland', 'establishes', 'six', 'technical', 'area', 'believe', 'encompass', 'field', 'data', 'science', 'multidisciplinary', 'investigation', 'model', 'method', 'data', 'compute', 'data', 'pedagogy', 'tool', 'evaluation', 'theory', 'april', '2002', 'international', 'council', 'science', 'icsu', 'committee', 'data', 'science', 'technology', 'codata', '25', 'start', 'data', 'science', 'journal', '26', 'publication', 'focus', 'issue', 'description', 'data', 'system', 'publication', 'internet', 'application', 'legal', 'issue', '27', 'shortly', 'thereafter', 'january', '2003', 'columbia', 'university', 'begin', 'publishing', 'journal', 'data', 'science', '28', 'provide', 'platform', 'data', 'worker', 'present', 'view', 'exchange', 'idea', 'journal', 'largely', 'devote', 'application', 'statistical', 'method', 'quantitative', 'research', '2005', 'national', 'science', 'board', 'publish', '``', 'long-lived', 'digital', 'data', 'collection', 'enable', 'research', 'education', '21st', 'century', \"''\", 'define', 'data', 'scientist', '``', 'information', 'computer', 'scientist', 'database', 'software', 'programmer', 'disciplinary', 'expert', 'curator', 'expert', 'annotator', 'librarian', 'archivist', 'others', 'crucial', 'successful', 'management', 'digital', 'data', 'collection', \"''\", 'whose', 'primary', 'activity', '``', 'conduct', 'creative', 'inquiry', 'analysis', '``', '29', 'around', '2007', 'citation', 'need', 'turing', 'award', 'winner', 'jim', 'gray', 'envision', '``', 'data-driven', 'science', \"''\", '``', 'fourth', 'paradigm', \"''\", 'science', 'us', 'computational', 'analysis', 'large', 'data', 'primary', 'scientific', 'method', '5', '6', '``', 'world', 'science', 'literature', 'online', 'science', 'data', 'online', 'interoperate', '``', '30', '2012', 'harvard', 'business', 'review', 'article', '``', 'data', 'scientist', 'sexiest', 'job', '21st', 'century', \"''\", '8', 'dj', 'patil', 'claim', 'coin', 'term', '2008', 'jeff', 'hammerbacher', 'define', 'job', 'linkedin', 'facebook', 'respectively', 'asserts', 'data', 'scientist', '``', 'new', 'breed', \"''\", '``', 'shortage', 'data', 'scientist', 'become', 'serious', 'constraint', 'sector', \"''\", 'describes', 'much', 'business-oriented', 'role', '2013', 'ieee', 'task', 'force', 'data', 'science', 'advanced', 'analytics', '31', 'launch', '2013', 'first', '``', 'european', 'conference', 'data', 'analysis', 'ecda', \"''\", 'organise', 'luxembourg', 'establish', 'european', 'association', 'data', 'science', 'euads', 'first', 'international', 'conference', 'ieee', 'international', 'conference', 'data', 'science', 'advanced', 'analytics', 'launch', '2014', '32', '2014', 'general', 'assembly', 'launch', 'student-paid', 'bootcamp', 'data', 'incubator', 'launch', 'competitive', 'free', 'data', 'science', 'fellowship', '33', '2014', 'american', 'statistical', 'association', 'section', 'statistical', 'learn', 'data', 'mining', 'rename', 'journal', '``', 'statistical', 'analysis', 'data', 'mining', 'asa', 'data', 'science', 'journal', \"''\", '2016', 'change', 'section', 'name', '``', 'statistical', 'learn', 'data', 'science', \"''\", '34', '2015', 'international', 'journal', 'data', 'science', 'analytics', '35', 'launch', 'springer', 'publish', 'original', 'work', 'data', 'science', 'big', 'data', 'analytics', 'september', '2015', 'gesellschaft', 'für', 'klassifikation', 'gfkl', 'add', 'name', 'society', '``', 'data', 'science', 'society', \"''\", 'third', 'ecda', 'conference', 'university', 'essex', 'colchester', 'uk', '``', 'data', 'science', \"''\", 'recently', 'become', 'popular', 'term', 'among', 'business', 'executive', '36', 'however', 'many', 'critical', 'academic', 'journalist', 'see', 'distinction', 'data', 'science', 'statistic', 'whereas', 'others', 'consider', 'largely', 'popular', 'term', '``', 'data', 'mining', \"''\", '``', 'big', 'data', \"''\", '3', 'write', 'forbes', 'gil', 'press', 'argues', 'data', 'science', 'buzzword', 'without', 'clear', 'definition', 'simply', 'replace', '``', 'business', 'analytics', \"''\", 'context', 'graduate', 'degree', 'program', '9', 'question-and-answer', 'section', 'keynote', 'address', 'joint', 'statistical', 'meeting', 'american', 'statistical', 'association', 'note', 'apply', 'statistician', 'nate', 'silver', 'say', '``', 'think', 'data-scientist', 'sexed', 'term', 'statistician', '...', '.statistics', 'branch', 'science', 'data', 'scientist', 'slightly', 'redundant', 'way', 'people', '’', 'berate', 'term', 'statistician', '``', '12', 'similarly', 'business', 'sector', 'multiple', 'researcher', 'analyst', 'state', 'data', 'scientist', 'alone', 'far', 'sufficient', 'grant', 'company', 'real', 'competitive', 'advantage', '37', 'consider', 'data', 'scientist', 'one', 'four', 'great', 'job', 'family', 'company', 'require', 'leverage', 'big', 'data', 'effectively', 'namely', 'data', 'analyst', 'data', 'scientist', 'big', 'data', 'developer', 'big', 'data', 'engineer', '38', 'hand', 'response', 'criticism', 'numerous', '2014', 'wall', 'street', 'journal', 'article', 'irving', 'wladawsky-berger', 'compare', 'data', 'science', 'enthusiasm', 'dawn', 'computer', 'science', 'argues', 'data', 'science', 'like', 'interdisciplinary', 'field', 'employ', 'methodology', 'practice', 'across', 'academia', 'industry', 'morph', 'new', 'discipline', 'brings', 'attention', 'sharp', 'criticism', 'computer', 'science', 'well', 'respect', 'academic', 'discipline', 'face', '39', 'likewise', 'nyu', 'stern', 'vasant', 'dhar', 'many', 'academic', 'proponent', 'data', 'science', '39', 'argues', 'specifically', 'december', '2013', 'data', 'science', 'different', 'exist', 'practice', 'data', 'analysis', 'across', 'discipline', 'focus', 'explain', 'data', 'set', 'data', 'science', 'seek', 'actionable', 'consistent', 'pattern', 'predictive', 'us', '1', 'practical', 'engineering', 'goal', 'take', 'data', 'science', 'beyond', 'traditional', 'analytics', 'data', 'discipline', 'apply', 'field', 'lack', 'solid', 'theory', 'like', 'health', 'science', 'social', 'science', 'could', 'sought', 'utilized', 'generate', 'powerful', 'predictive', 'model', '1', 'effort', 'similar', 'dhar', 'stanford', 'professor', 'david', 'donoho', 'september', '2015', 'take', 'proposition', 'reject', 'three', 'simplistic', 'mislead', 'definition', 'data', 'science', 'lieu', 'criticism', '40', 'first', 'donoho', 'data', 'science', 'equate', 'big', 'data', 'size', 'data', 'set', 'criterion', 'distinguish', 'data', 'science', 'statistic', '40', 'second', 'data', 'science', 'define', 'compute', 'skill', 'sort', 'big', 'data', 'set', 'skill', 'already', 'generally', 'use', 'analysis', 'across', 'discipline', '40', 'third', 'data', 'science', 'heavily', 'apply', 'field', 'academic', 'program', 'right', 'sufficiently', 'prepare', 'data', 'scientist', 'job', 'many', 'graduate', 'program', 'misleadingly', 'advertise', 'analytics', 'statistic', 'training', 'essence', 'data', 'science', 'program', '40', '41', 'statistician', 'donoho', 'follow', 'many', 'field', 'champion', 'broadening', 'learn', 'scope', 'form', 'data', 'science', '40', 'like', 'john', 'chamber', 'urge', 'statistician', 'adopt', 'inclusive', 'concept', 'learn', 'data', '42', 'like', 'william', 'cleveland', 'urge', 'prioritize', 'extract', 'data', 'applicable', 'predictive', 'tool', 'explanatory', 'theory', '24', 'together', 'statistician', 'envision', 'increasingly', 'inclusive', 'apply', 'field', 'grows', 'traditional', 'statistic', 'beyond', 'future', 'data', 'science', 'donoho', 'project', 'ever-growing', 'environment', 'open', 'science', 'data', 'set', 'use', 'academic', 'publication', 'accessible', 'researcher', '40', 'u', 'national', 'institute', 'health', 'already', 'announce', 'plan', 'enhance', 'reproducibility', 'transparency', 'research', 'data', '43', 'big', 'journal', 'likewise', 'follow', 'suit', '44', '45', 'way', 'future', 'data', 'science', 'exceeds', 'boundary', 'statistical', 'theory', 'scale', 'methodology', 'data', 'science', 'revolutionize', 'current', 'academia', 'research', 'paradigm', '40', 'donoho', 'concludes', '``', 'scope', 'impact', 'data', 'science', 'continue', 'expand', 'enormously', 'come', 'decade', 'scientific', 'data', 'data', 'science', 'become', 'ubiquitously', 'available', '``', '40']\n"
     ]
    }
   ],
   "source": [
    "from nltk.stem import WordNetLemmatizer\n",
    "words_clean = [word.lower() for word in word_tokenize(text) if word.lower() not in stopword_]\n",
    "# print(words_clean)\n",
    "lemmatizer = WordNetLemmatizer()\n",
    "lemmatizerwords = [lemmatizer.lemmatize(word, get_part_of_speech(word)) for word in words_clean]\n",
    "print(lemmatizerwords)"
   ]
  },
  {
   "cell_type": "code",
   "execution_count": 56,
   "metadata": {},
   "outputs": [
    {
     "data": {
      "text/plain": [
       "FreqDist({'data': 106, 'science': 73, '``': 45, \"''\": 31, 'statistic': 17, 'term': 15, 'statistical': 12, 'scientist': 12, 'field': 10, 'big': 9, ...})"
      ]
     },
     "execution_count": 56,
     "metadata": {},
     "output_type": "execute_result"
    }
   ],
   "source": [
    "from nltk.probability import FreqDist\n",
    "freqdist = FreqDist(lemmatizerwords)\n",
    "freqdist"
   ]
  },
  {
   "cell_type": "markdown",
   "metadata": {},
   "source": [
    "# Bigram - try to look for connection between two words e.g. Data Science"
   ]
  },
  {
   "cell_type": "code",
   "execution_count": 57,
   "metadata": {},
   "outputs": [],
   "source": [
    "from nltk.collocations import BigramCollocationFinder\n",
    "from collections import defaultdict\n",
    "ranking = defaultdict(int)\n",
    "finder = BigramCollocationFinder.from_words(lemmatizerwords) #frequency distribution\n",
    "for i, sent in enumerate(sents):\n",
    "    lemma = [lemmatizer.lemmatize(word, get_part_of_speech(word)) for word in word_tokenize(sent.lower())]\n",
    "    bigrams = BigramCollocationFinder.from_words(lemma)\n",
    "    for bigram in bigrams.ngram_fd:\n",
    "#         print(bigram)\n",
    "        if bigram in finder.ngram_fd:\n",
    "            ranking[i] += finder.ngram_fd[bigram]\n",
    "        "
   ]
  },
  {
   "cell_type": "markdown",
   "metadata": {},
   "source": [
    "# Top 5 sentences"
   ]
  },
  {
   "cell_type": "code",
   "execution_count": 58,
   "metadata": {},
   "outputs": [
    {
     "data": {
      "text/plain": [
       "[6, 26, 49, 45, 13]"
      ]
     },
     "execution_count": 58,
     "metadata": {},
     "output_type": "execute_result"
    }
   ],
   "source": [
    "from heapq import nlargest\n",
    "result = nlargest(5, ranking,key=ranking.get)\n",
    "result"
   ]
  },
  {
   "cell_type": "markdown",
   "metadata": {},
   "source": [
    "# Summary"
   ]
  },
  {
   "cell_type": "code",
   "execution_count": 59,
   "metadata": {},
   "outputs": [
    {
     "name": "stdout",
     "output_type": "stream",
     "text": [
      "\t\t\t\t\t[Summary about Data Science on Wikipedia]\n",
      "\n",
      "  In 2012, when Harvard Business Review called it \"The Sexiest Job of the 21st Century\", the term \"data science\" became a buzzword.The term \"data science\" has appeared in various contexts over the past thirty years but did not become an established term until recently.In his conclusion, he initiated the modern, non-computer science, usage of the term \"data science\" and advocated that statistics be renamed data science and statisticians data scientists.In 2014, the American Statistical Association section on Statistical Learning and Data Mining renamed its journal to \"Statistical Analysis and Data Mining: The ASA Data Science Journal\" and in 2016 changed its section name to \"Statistical Learning and Data Science\".However, many critical academics and journalists see no distinction between data science and statistics, whereas others consider it largely a popular term for \"data mining\" and \"big data\".\n"
     ]
    }
   ],
   "source": [
    "import re\n",
    "summary = '  '\n",
    "for i in sorted(result):\n",
    "    new_sent = re.sub(r\"\\[.+\\]\", '', sents[i])\n",
    "    summary += new_sent.replace('\\n', ' ').strip(' ')\n",
    "print('\\t\\t\\t\\t\\t[Summary about Data Science on Wikipedia]\\n')\n",
    "print(summary)"
   ]
  },
  {
   "cell_type": "code",
   "execution_count": null,
   "metadata": {},
   "outputs": [],
   "source": []
  }
 ],
 "metadata": {
  "kernelspec": {
   "display_name": "Python 3",
   "language": "python",
   "name": "python3"
  },
  "language_info": {
   "codemirror_mode": {
    "name": "ipython",
    "version": 3
   },
   "file_extension": ".py",
   "mimetype": "text/x-python",
   "name": "python",
   "nbconvert_exporter": "python",
   "pygments_lexer": "ipython3",
   "version": "3.7.3"
  }
 },
 "nbformat": 4,
 "nbformat_minor": 2
}
